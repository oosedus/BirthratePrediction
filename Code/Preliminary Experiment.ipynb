{
 "cells": [
  {
   "cell_type": "code",
   "execution_count": 1,
   "id": "db37c4e9",
   "metadata": {},
   "outputs": [],
   "source": [
    "import pandas as pd\n",
    "\n",
    "data01 = pd.read_excel(\"C:/Users/oosedus/Desktop/3-2/Business Analytics/Project/Project/BirthratePrediction/Data/after_correlation_data01.xlsx\")\n",
    "data02 = pd.read_excel(\"C:/Users/oosedus/Desktop/3-2/Business Analytics/Project/Project/BirthratePrediction/Data/after_correlation_data02.xlsx\")\n",
    "data03 = pd.read_excel(\"C:/Users/oosedus/Desktop/3-2/Business Analytics/Project/Project/BirthratePrediction/Data/after_correlation_data03.xlsx\")\n",
    "data04 = pd.read_excel(\"C:/Users/oosedus/Desktop/3-2/Business Analytics/Project/Project/BirthratePrediction/Data/after_correlation_data04.xlsx\")"
   ]
  },
  {
   "cell_type": "code",
   "execution_count": 4,
   "id": "a680c81b",
   "metadata": {
    "scrolled": false
   },
   "outputs": [
    {
     "name": "stdout",
     "output_type": "stream",
     "text": [
      "<class 'pandas.core.frame.DataFrame'>\n",
      "RangeIndex: 480 entries, 0 to 479\n",
      "Data columns (total 17 columns):\n",
      " #   Column                        Non-Null Count  Dtype  \n",
      "---  ------                        --------------  -----  \n",
      " 0   BirthRate                     480 non-null    float64\n",
      " 1   FemaleLaborParticipationRate  480 non-null    float64\n",
      " 2   AvgHoursWorked                480 non-null    float64\n",
      " 3   FirstBirthAge                 480 non-null    float64\n",
      " 4   MarriageRate                  480 non-null    float64\n",
      " 5   HousingPrice                  480 non-null    float64\n",
      " 6   PartTimeRate                  480 non-null    float64\n",
      " 7   FamilyExpenditure             480 non-null    float64\n",
      " 8   UnemploymentExpenditure       480 non-null    float64\n",
      " 9   GDI                           480 non-null    float64\n",
      " 10  GDP                           480 non-null    float64\n",
      " 11  EduExpenditureOfGDP           480 non-null    float64\n",
      " 12  WeeksPaidLeaveForMothers      480 non-null    float64\n",
      " 13  InflationRate                 480 non-null    float64\n",
      " 14  LaborMarketStability          480 non-null    float64\n",
      " 15  MarriageStabilityIndex        480 non-null    float64\n",
      " 16  HousingAffordabilityIndex     480 non-null    float64\n",
      "dtypes: float64(17)\n",
      "memory usage: 63.9 KB\n"
     ]
    }
   ],
   "source": [
    "data01.info()"
   ]
  },
  {
   "cell_type": "code",
   "execution_count": 25,
   "id": "57790e74",
   "metadata": {},
   "outputs": [
    {
     "name": "stdout",
     "output_type": "stream",
     "text": [
      "XGBoost Model MSE: 1.0353283823561519\n",
      "XGBoost Model R²: 0.5221714462379863\n"
     ]
    }
   ],
   "source": [
    "from sklearn.ensemble import RandomForestRegressor\n",
    "from sklearn.metrics import mean_squared_error\n",
    "from sklearn.model_selection import train_test_split\n",
    "from sklearn.preprocessing import StandardScaler\n",
    "import xgboost as xgb\n",
    "from sklearn.metrics import mean_squared_error, r2_score\n",
    "\n",
    "target = data01['BirthRate']\n",
    "features = data01.drop(['BirthRate'], axis=1)\n",
    "\n",
    "X_train, X_test, y_train, y_test = train_test_split(features, target, test_size=0.3, random_state=42)\n",
    "\n",
    "scaler = StandardScaler()\n",
    "X_train_scaled = scaler.fit_transform(X_train)\n",
    "X_test_scaled = scaler.transform(X_test)\n",
    "\n",
    "xgboost_model = xgb.XGBRegressor(objective ='reg:squarederror', \n",
    "                                 colsample_bytree = 0.3, \n",
    "                                 learning_rate = 0.1,\n",
    "                                 max_depth = 5, \n",
    "                                 alpha = 10, \n",
    "                                 n_estimators = 10)\n",
    "\n",
    "xgboost_model.fit(X_train_scaled, y_train)\n",
    "\n",
    "y_pred_xgb = xgboost_model.predict(X_test_scaled)\n",
    "mse_xgb = mean_squared_error(y_test, y_pred_xgb)\n",
    "r2_xgb = r2_score(y_test, y_pred_xgb)\n",
    "\n",
    "print(f\"XGBoost Model MSE: {mse_xgb}\")\n",
    "print(f\"XGBoost Model R²: {r2_xgb}\")"
   ]
  },
  {
   "cell_type": "code",
   "execution_count": 24,
   "id": "1b544218",
   "metadata": {
    "scrolled": true
   },
   "outputs": [
    {
     "name": "stdout",
     "output_type": "stream",
     "text": [
      "XGBoost Model MSE: 0.9298940139183386\n",
      "XGBoost Model R²: 0.5708319028100357\n"
     ]
    }
   ],
   "source": [
    "from sklearn.ensemble import RandomForestRegressor\n",
    "from sklearn.metrics import mean_squared_error\n",
    "from sklearn.model_selection import train_test_split\n",
    "from sklearn.preprocessing import StandardScaler\n",
    "import xgboost as xgb\n",
    "from sklearn.metrics import mean_squared_error, r2_score\n",
    "\n",
    "target = data04['BirthRate']\n",
    "features = data04.drop(['BirthRate'], axis=1)\n",
    "\n",
    "X_train, X_test, y_train, y_test = train_test_split(features, target, test_size=0.3, random_state=42)\n",
    "\n",
    "scaler = StandardScaler()\n",
    "X_train_scaled = scaler.fit_transform(X_train)\n",
    "X_test_scaled = scaler.transform(X_test)\n",
    "\n",
    "xgboost_model = xgb.XGBRegressor(objective ='reg:squarederror', \n",
    "                                 colsample_bytree = 0.3, \n",
    "                                 learning_rate = 0.1,\n",
    "                                 max_depth = 5, \n",
    "                                 alpha = 10, \n",
    "                                 n_estimators = 10)\n",
    "\n",
    "xgboost_model.fit(X_train_scaled, y_train)\n",
    "\n",
    "y_pred_xgb = xgboost_model.predict(X_test_scaled)\n",
    "mse_xgb = mean_squared_error(y_test, y_pred_xgb)\n",
    "r2_xgb = r2_score(y_test, y_pred_xgb)\n",
    "\n",
    "print(f\"XGBoost Model MSE: {mse_xgb}\")\n",
    "print(f\"XGBoost Model R²: {r2_xgb}\")"
   ]
  }
 ],
 "metadata": {
  "kernelspec": {
   "display_name": "Python 3 (ipykernel)",
   "language": "python",
   "name": "python3"
  },
  "language_info": {
   "codemirror_mode": {
    "name": "ipython",
    "version": 3
   },
   "file_extension": ".py",
   "mimetype": "text/x-python",
   "name": "python",
   "nbconvert_exporter": "python",
   "pygments_lexer": "ipython3",
   "version": "3.9.12"
  }
 },
 "nbformat": 4,
 "nbformat_minor": 5
}
