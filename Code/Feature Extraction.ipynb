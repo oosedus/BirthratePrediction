{
 "cells": [
  {
   "cell_type": "code",
   "execution_count": 18,
   "id": "cbd87361",
   "metadata": {},
   "outputs": [],
   "source": [
    "import pandas as pd\n",
    "\n",
    "data = pd.read_excel(\"C:/Users/oosedus/Desktop/3-2/Business Analytics/Project/Project/BirthratePrediction/Data/real_merged_data.xlsx\")"
   ]
  },
  {
   "cell_type": "code",
   "execution_count": 19,
   "id": "6673972b",
   "metadata": {},
   "outputs": [
    {
     "name": "stdout",
     "output_type": "stream",
     "text": [
      "<class 'pandas.core.frame.DataFrame'>\n",
      "RangeIndex: 480 entries, 0 to 479\n",
      "Data columns (total 24 columns):\n",
      " #   Column                        Non-Null Count  Dtype  \n",
      "---  ------                        --------------  -----  \n",
      " 0   Year                          480 non-null    int64  \n",
      " 1   ID                            480 non-null    object \n",
      " 2   Country Name                  480 non-null    object \n",
      " 3   FemaleLaborParticipationRate  480 non-null    float64\n",
      " 4   AvgHoursWorked                480 non-null    float64\n",
      " 5   FirstBirthAge                 480 non-null    float64\n",
      " 6   MarriageRate                  480 non-null    float64\n",
      " 7   EmploymentRate                480 non-null    float64\n",
      " 8   UnemploymentRate              480 non-null    float64\n",
      " 9   HousingPrice                  480 non-null    float64\n",
      " 10  InterestRate                  480 non-null    float64\n",
      " 11  PartTimeRate                  480 non-null    float64\n",
      " 12  FamilyExpenditure             480 non-null    float64\n",
      " 13  UnemploymentExpenditure       480 non-null    float64\n",
      " 14  GDI                           480 non-null    float64\n",
      " 15  GDP                           480 non-null    float64\n",
      " 16  GNI                           480 non-null    float64\n",
      " 17  EduExpenditureOfGDP           480 non-null    float64\n",
      " 18  WeeksPaidLeaveForMothers      480 non-null    float64\n",
      " 19  TotalLaborParticipationRate   480 non-null    float64\n",
      " 20  DivorceRate                   480 non-null    float64\n",
      " 21  InflationRate                 480 non-null    float64\n",
      " 22  Population                    480 non-null    float64\n",
      " 23  FertilityRate                 480 non-null    float64\n",
      "dtypes: float64(21), int64(1), object(2)\n",
      "memory usage: 90.1+ KB\n"
     ]
    }
   ],
   "source": [
    "data.info()"
   ]
  },
  {
   "cell_type": "markdown",
   "id": "a21af050",
   "metadata": {},
   "source": [
    "# Work-Leisure Balance Index\n",
    "\n",
    "- **AvgHoursWorked / LaborParticipationRate**, provides a detailed look at the characteristics of the labor market. This ratio indicates the average working hours relative to the labor participation rate, offering insights into the intensity of work and leisure time available, which can impact birth rates.\n",
    "\n",
    "- **High Value Implication**: If this ratio is high, it implies long working hours combined with a low participation rate, suggesting a high work intensity with less leisure time, potentially leading to lower birth rates.\n",
    "\n",
    "- **Low Value Implication**: Conversely, a low value of this ratio indicates shorter working hours with a high participation rate, suggesting more leisure time is available, which might be conducive to higher birth rates."
   ]
  },
  {
   "cell_type": "code",
   "execution_count": 20,
   "id": "0e1dc782",
   "metadata": {
    "scrolled": true
   },
   "outputs": [
    {
     "name": "stdout",
     "output_type": "stream",
     "text": [
      "<class 'pandas.core.frame.DataFrame'>\n",
      "RangeIndex: 480 entries, 0 to 479\n",
      "Data columns (total 25 columns):\n",
      " #   Column                        Non-Null Count  Dtype  \n",
      "---  ------                        --------------  -----  \n",
      " 0   Year                          480 non-null    int64  \n",
      " 1   ID                            480 non-null    object \n",
      " 2   Country Name                  480 non-null    object \n",
      " 3   FemaleLaborParticipationRate  480 non-null    float64\n",
      " 4   AvgHoursWorked                480 non-null    float64\n",
      " 5   FirstBirthAge                 480 non-null    float64\n",
      " 6   MarriageRate                  480 non-null    float64\n",
      " 7   EmploymentRate                480 non-null    float64\n",
      " 8   UnemploymentRate              480 non-null    float64\n",
      " 9   HousingPrice                  480 non-null    float64\n",
      " 10  InterestRate                  480 non-null    float64\n",
      " 11  PartTimeRate                  480 non-null    float64\n",
      " 12  FamilyExpenditure             480 non-null    float64\n",
      " 13  UnemploymentExpenditure       480 non-null    float64\n",
      " 14  GDI                           480 non-null    float64\n",
      " 15  GDP                           480 non-null    float64\n",
      " 16  GNI                           480 non-null    float64\n",
      " 17  EduExpenditureOfGDP           480 non-null    float64\n",
      " 18  WeeksPaidLeaveForMothers      480 non-null    float64\n",
      " 19  TotalLaborParticipationRate   480 non-null    float64\n",
      " 20  DivorceRate                   480 non-null    float64\n",
      " 21  InflationRate                 480 non-null    float64\n",
      " 22  Population                    480 non-null    float64\n",
      " 23  FertilityRate                 480 non-null    float64\n",
      " 24  WorkLeisureBalanceIndex       480 non-null    float64\n",
      "dtypes: float64(22), int64(1), object(2)\n",
      "memory usage: 93.9+ KB\n"
     ]
    }
   ],
   "source": [
    "data['WorkLeisureBalanceIndex'] = data['AvgHoursWorked'] / data['TotalLaborParticipationRate']\n",
    "\n",
    "data.info()"
   ]
  },
  {
   "cell_type": "markdown",
   "id": "2e35b6ee",
   "metadata": {},
   "source": [
    "## LaborMarketStability\n",
    "\n",
    "- **the ratio of the Employment Rate to the Unemployment Rate**\n",
    "- This feature helps in assessing the overall health and stability of the labor market, where a higher ratio indicates stability (high employment, low unemployment), and a lower ratio indicates instability (low employment, high unemployment)."
   ]
  },
  {
   "cell_type": "code",
   "execution_count": 21,
   "id": "1a5a901e",
   "metadata": {
    "scrolled": true
   },
   "outputs": [
    {
     "name": "stdout",
     "output_type": "stream",
     "text": [
      "<class 'pandas.core.frame.DataFrame'>\n",
      "RangeIndex: 480 entries, 0 to 479\n",
      "Data columns (total 26 columns):\n",
      " #   Column                        Non-Null Count  Dtype  \n",
      "---  ------                        --------------  -----  \n",
      " 0   Year                          480 non-null    int64  \n",
      " 1   ID                            480 non-null    object \n",
      " 2   Country Name                  480 non-null    object \n",
      " 3   FemaleLaborParticipationRate  480 non-null    float64\n",
      " 4   AvgHoursWorked                480 non-null    float64\n",
      " 5   FirstBirthAge                 480 non-null    float64\n",
      " 6   MarriageRate                  480 non-null    float64\n",
      " 7   EmploymentRate                480 non-null    float64\n",
      " 8   UnemploymentRate              480 non-null    float64\n",
      " 9   HousingPrice                  480 non-null    float64\n",
      " 10  InterestRate                  480 non-null    float64\n",
      " 11  PartTimeRate                  480 non-null    float64\n",
      " 12  FamilyExpenditure             480 non-null    float64\n",
      " 13  UnemploymentExpenditure       480 non-null    float64\n",
      " 14  GDI                           480 non-null    float64\n",
      " 15  GDP                           480 non-null    float64\n",
      " 16  GNI                           480 non-null    float64\n",
      " 17  EduExpenditureOfGDP           480 non-null    float64\n",
      " 18  WeeksPaidLeaveForMothers      480 non-null    float64\n",
      " 19  TotalLaborParticipationRate   480 non-null    float64\n",
      " 20  DivorceRate                   480 non-null    float64\n",
      " 21  InflationRate                 480 non-null    float64\n",
      " 22  Population                    480 non-null    float64\n",
      " 23  FertilityRate                 480 non-null    float64\n",
      " 24  WorkLeisureBalanceIndex       480 non-null    float64\n",
      " 25  LaborMarketStability          480 non-null    float64\n",
      "dtypes: float64(23), int64(1), object(2)\n",
      "memory usage: 97.6+ KB\n"
     ]
    }
   ],
   "source": [
    "data['LaborMarketStability'] = data['EmploymentRate'] / data['UnemploymentRate']\n",
    "\n",
    "data.info()"
   ]
  },
  {
   "cell_type": "markdown",
   "id": "14c21452",
   "metadata": {},
   "source": [
    "## HousingAffordabilityIndex\n",
    "\n",
    "- **HousingPriceIndex / PerCapitaGDP** : This index quantifies the economic burden of purchasing a home by comparing the cost of buying a house to the income level of individuals or households.\n",
    "- **A lower index value** indicates that buying a house is relatively affordable, which may lead to less financial strain on starting and expanding families, potentially increasing birth rates.\n",
    "- **A higher index value** implies that buying a house is expensive relative to personal income, which could increase financial pressure and act as a deterrent to having children."
   ]
  },
  {
   "cell_type": "code",
   "execution_count": 22,
   "id": "22b09cf9",
   "metadata": {
    "scrolled": true
   },
   "outputs": [
    {
     "name": "stdout",
     "output_type": "stream",
     "text": [
      "<class 'pandas.core.frame.DataFrame'>\n",
      "RangeIndex: 480 entries, 0 to 479\n",
      "Data columns (total 28 columns):\n",
      " #   Column                        Non-Null Count  Dtype  \n",
      "---  ------                        --------------  -----  \n",
      " 0   Year                          480 non-null    int64  \n",
      " 1   ID                            480 non-null    object \n",
      " 2   Country Name                  480 non-null    object \n",
      " 3   FemaleLaborParticipationRate  480 non-null    float64\n",
      " 4   AvgHoursWorked                480 non-null    float64\n",
      " 5   FirstBirthAge                 480 non-null    float64\n",
      " 6   MarriageRate                  480 non-null    float64\n",
      " 7   EmploymentRate                480 non-null    float64\n",
      " 8   UnemploymentRate              480 non-null    float64\n",
      " 9   HousingPrice                  480 non-null    float64\n",
      " 10  InterestRate                  480 non-null    float64\n",
      " 11  PartTimeRate                  480 non-null    float64\n",
      " 12  FamilyExpenditure             480 non-null    float64\n",
      " 13  UnemploymentExpenditure       480 non-null    float64\n",
      " 14  GDI                           480 non-null    float64\n",
      " 15  GDP                           480 non-null    float64\n",
      " 16  GNI                           480 non-null    float64\n",
      " 17  EduExpenditureOfGDP           480 non-null    float64\n",
      " 18  WeeksPaidLeaveForMothers      480 non-null    float64\n",
      " 19  TotalLaborParticipationRate   480 non-null    float64\n",
      " 20  DivorceRate                   480 non-null    float64\n",
      " 21  InflationRate                 480 non-null    float64\n",
      " 22  Population                    480 non-null    float64\n",
      " 23  FertilityRate                 480 non-null    float64\n",
      " 24  WorkLeisureBalanceIndex       480 non-null    float64\n",
      " 25  LaborMarketStability          480 non-null    float64\n",
      " 26  PerCapitaGDP                  480 non-null    float64\n",
      " 27  HousingAffordabilityIndex     480 non-null    float64\n",
      "dtypes: float64(25), int64(1), object(2)\n",
      "memory usage: 105.1+ KB\n"
     ]
    }
   ],
   "source": [
    "data['PerCapitaGDP'] = data['GDP'] / data['Population']\n",
    "data['HousingAffordabilityIndex'] = data['HousingPrice'] / data['PerCapitaGDP']\n",
    "\n",
    "data.info()"
   ]
  },
  {
   "cell_type": "markdown",
   "id": "722425aa",
   "metadata": {},
   "source": [
    "## 필요없는 Feature 삭제"
   ]
  },
  {
   "cell_type": "code",
   "execution_count": 23,
   "id": "4e2e6d30",
   "metadata": {},
   "outputs": [],
   "source": [
    "columns_to_exclude = ['Country Name', 'ID', 'PerCapitaGDP', 'Population', 'DivorceRate']\n",
    "data01 = data.drop(columns=columns_to_exclude)"
   ]
  },
  {
   "cell_type": "code",
   "execution_count": 24,
   "id": "93afe356",
   "metadata": {},
   "outputs": [],
   "source": [
    "# Save the DataFrame to an Excel file\n",
    "data01.to_excel(\"C:/Users/oosedus/Desktop/3-2/Business Analytics/Project/Project/BirthratePrediction/Data/after_extration_data.xlsx\", index=False)"
   ]
  }
 ],
 "metadata": {
  "kernelspec": {
   "display_name": "Python 3 (ipykernel)",
   "language": "python",
   "name": "python3"
  },
  "language_info": {
   "codemirror_mode": {
    "name": "ipython",
    "version": 3
   },
   "file_extension": ".py",
   "mimetype": "text/x-python",
   "name": "python",
   "nbconvert_exporter": "python",
   "pygments_lexer": "ipython3",
   "version": "3.9.12"
  }
 },
 "nbformat": 4,
 "nbformat_minor": 5
}
